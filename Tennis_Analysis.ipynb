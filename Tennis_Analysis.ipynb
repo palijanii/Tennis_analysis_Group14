{
 "cells": [
  {
   "cell_type": "code",
   "execution_count": null,
   "metadata": {},
   "outputs": [],
   "source": [
    "#Load libraries here\n",
    "library(tidyverse)\n",
    "library(repr)"
   ]
  },
  {
   "cell_type": "code",
   "execution_count": null,
   "metadata": {},
   "outputs": [],
   "source": [
    "#Read data\n",
    "tennis_data_raw <- read_csv(\"data/player_stats.csv\")\n",
    "#tennis_data_raw"
   ]
  },
  {
   "cell_type": "code",
   "execution_count": null,
   "metadata": {},
   "outputs": [],
   "source": [
    "#Tidying data\n",
    "names(tennis_data_raw) <- make.names(names(tennis_data_raw), unique = TRUE)\n",
    "\n",
    "tennis_data_tidy <- tennis_data_raw %>% \n",
    "mutate(Last_Appearance = Last.Appearance) %>%\n",
    "select(-Wikipedia, -X1) %>%\n",
    "#Separating values\n",
    "separate(col = Age, into = c(\"Age\", \"Birthdate\"), sep = \" \") %>%\n",
    "separate(col = Current.Rank, into = c(\"Current_Rank\", \"Points_at_Current_Rank\"), sep = \" \") %>% \n",
    "separate(col = Best.Rank, into = c(\"Best_Rank\", \"Best_Rank_Date\"), sep = \" \") %>%\n",
    "separate(col = Current.Elo.Rank, into = c(\"Current_Elo_Rank\", \"Current_Elo_Score\"), sep = \" \") %>% \n",
    "separate(col = Best.Elo.Rank, into = c(\"Best_Elo_Rank\", \"Best_Elo_Rank_Date\"), sep = \" \") %>% \n",
    "separate(col = Peak.Elo.Rating, into = c(\"Peak_Elo_Rating\", \"Peak_Elo_Rating_Date\"), sep = \" \") %>% \n",
    "separate(col = GOAT.Rank, into = c(\"GOAT_Rank\", \"GOAT_Points\"), sep = \" \") %>%\n",
    "lapply( function(x) gsub(pattern = \"[\\\\(\\\\)]\",replacement = \"\", as.character(x))) %>%\n",
    "data.frame() %>%\n",
    "#Converting Date format\n",
    "separate(col = Birthdate, into = c(\"Birthday\",\"Birthmonth\", \"Birthyear\"), sep = \"-\") %>% \n",
    "separate(col = Best_Rank_Date, into = c(\"Best_Rank_Day\", \"Best_Rank_Month\", \"Best_Rank_Year\"), sep = \"-\") %>%\n",
    "separate(col = Peak_Elo_Rating_Date, into = c(\"Peak_Elo_Rating_Day\", \"Peak_Elo_Rating_Month\" ,\"Peak_Elo_Rating_Year\"), sep = \"-\") %>%\n",
    "separate(col = Best_Elo_Rank_Date, into = c(\"Best_Elo_Rank_Day\", \"Best_Elo_Rank_Month\" ,\"Best_Elo_Rank_Year\"), sep = \"-\") %>%\n",
    "separate(col = Last_Appearance, into = c(\"Last_Appearance_Day\", \"Last_Appearance_Month\" ,\"Last_Appearance_Year\"), sep = \"-\") %>%\n",
    "#Converting to int\n",
    "mutate_at(c(\"Age\", \"Birthday\", \"Birthmonth\", \"Birthyear\", \"Current_Rank\", \"Points_at_Current_Rank\", \"Current_Elo_Rank\", \"Best_Rank\", \"Best_Rank_Day\", \"Current_Elo_Score\",\n",
    "            \"Best_Rank_Year\", \"Peak_Elo_Rating_Day\", \"Peak_Elo_Rating_Month\", \"Peak_Elo_Rating_Year\", \"Peak_Elo_Rating\", \"Best.Season\", \"Retired\",\n",
    "            \"Best_Elo_Rank\", \"Best_Elo_Rank_Day\", \"Best_Elo_Rank_Month\" ,\"Best_Elo_Rank_Year\",\"Last_Appearance_Day\", \"Last_Appearance_Month\" ,\"Last_Appearance_Year\", \n",
    "            \"GOAT_Rank\", \"GOAT_Points\", \"Grand.Slams\", \"Davis.Cups\", \"Olympics\", \"Team.Cups\", \"Turned.Pro\", \"Seasons\", \"Titles\" ), as.integer) %>%\n",
    "mutate( Age_at_Best_Rank = Best_Rank_Year - Birthyear)\n",
    "       \n",
    "\n",
    "#Removed many vectors for easier viewing of table\n",
    "tennis_data_filtered <- tennis_data_tidy %>%\n",
    "                   #Likely irrelevant vectors\n",
    "                   select(-Facebook, - Twitter, - Nicknames, -Coach, -Web.Site, -Residence, -Birthplace) %>%      \n",
    "                   #Possibly irrelevant vectors \n",
    "                   select(-Davis.Cups, -Team.Cups, -Olympics, - Weight, -Grand.Slams, -Tour.Finals,-Masters, -Weeks.at.No..1, \n",
    "                           -Height, -Prize.Money, -Last.Appearance, -Titles, -Active) %>%       \n",
    "                   #Days and Months\n",
    "                   select(-Birthday, -Birthmonth, -Best_Rank_Day, -Best_Rank_Month, -Peak_Elo_Rating_Day, -Peak_Elo_Rating_Month,\n",
    "                          -Best_Elo_Rank_Day, -Best_Elo_Rank_Month, - Last_Appearance_Day, -Last_Appearance_Month) %>% \n",
    "                   arrange(Current_Rank)\n",
    "           \n",
    "#tennis_data_tidy\n",
    "#tennis_data_filtered     "
   ]
  },
  {
   "cell_type": "code",
   "execution_count": null,
   "metadata": {},
   "outputs": [],
   "source": [
    "tennis_data_tidy$Retired[tennis_data_tidy$Retired > 1990] <- \"yes\"\n",
    "tennis_data_tidy$Retired[is.na(tennis_data_tidy$Retired)] <- \"no\"\n",
    "\n",
    "tennis_data <- tennis_data_tidy %>%\n",
    "                group_by(Best_Rank) %>%\n",
    "                summarize(Mean_Age_at_Best_Rank = mean(Age_at_Best_Rank, na.rm = TRUE))\n",
    "tennis_data"
   ]
  },
  {
   "cell_type": "code",
   "execution_count": null,
   "metadata": {},
   "outputs": [],
   "source": [
    "options(repr.plot.width = 10, repr.plot.height = 10)\n",
    "best_rank_distribution <- ggplot(tennis_data_tidy, aes(fill = Retired, x = Best_Rank)) +\n",
    "                          stat_bin(geom = \"bar\", position = \"stack\") +\n",
    "                          geom_histogram(stat_bin = \"count\", binwidth = 10) +\n",
    "                          labs(x = \"Best Rank\", y = \"Number of Players\") +\n",
    "                          theme(text = element_text(size =20)) +\n",
    "                          ggtitle(\"Distribution of Tennis Players Best Rank\")\n",
    "best_rank_distribution \n",
    "\n",
    "current_rank_vs_age <- ggplot(tennis_data_tidy, aes(fill = Retired, x = Age_at_Best_Rank)) +\n",
    "                        geom_histogram(stat_bin = \"count\", binwidth = 1)+ \n",
    "                        labs(x = \"Age at Best Rank\", y = \"Number of Players\") +\n",
    "                        theme(text = element_text(size =20)) +\n",
    "                        ggtitle(\"Distribution of Tennis Players Age\")\n",
    "current_rank_vs_age"
   ]
  },
  {
   "cell_type": "code",
   "execution_count": null,
   "metadata": {},
   "outputs": [],
   "source": []
  }
 ],
 "metadata": {
  "kernelspec": {
   "display_name": "R",
   "language": "R",
   "name": "ir"
  },
  "language_info": {
   "codemirror_mode": "r",
   "file_extension": ".r",
   "mimetype": "text/x-r-source",
   "name": "R",
   "pygments_lexer": "r",
   "version": "4.0.0"
  }
 },
 "nbformat": 4,
 "nbformat_minor": 4
}
